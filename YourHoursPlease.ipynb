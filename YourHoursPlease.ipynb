{
 "cells": [
  {
   "cell_type": "markdown",
   "metadata": {},
   "source": [
    "# Extract data from Google Calendar\n",
    "\n",
    "### Description:\n",
    "Assume that you work and get paid based on hours you have worked. You note working hours in your Google Calendar, and you send your working ours to your manager in every xy time period. This program creates a file with the working hours you can send directly saving time on doing it \"by hand\".\n",
    "\n",
    "### Usage:\n",
    "To use this program you have to create a Google CalendarAPI. (See links below.) For the first use you have to sign in to your Google account, but after that you can save the credentials you need to log in so you don't need to sign in every time.\n",
    "\n",
    "In your calendar consistent naming is essential. You have to name all events the same.\n",
    "\n",
    "As some work late at night the last days work can be finished at the following days morning (like 1am or 2am) the code counts these to the previous day (when work started).\n",
    "\n",
    "At the end the program counts the total time of work in hours.\n",
    "\n",
    "Output: hours.txt\n",
    "\n",
    "Credits: [Google Developers](https://developers.google.com/calendar/quickstart/python), [Towards Data Science](https://towardsdatascience.com/accessing-google-calendar-events-data-using-python-e915599d3ae2)"
   ]
  },
  {
   "cell_type": "code",
   "execution_count": 1,
   "metadata": {},
   "outputs": [],
   "source": [
    "from googleapiclient.discovery import build\n",
    "from google_auth_oauthlib.flow import InstalledAppFlow\n",
    "import pickle\n",
    "import datetime\n",
    "import calendar"
   ]
  },
  {
   "cell_type": "code",
   "execution_count": null,
   "metadata": {},
   "outputs": [],
   "source": [
    "# For first time use you will need to log in to your Google account\n",
    "# then you can save credentials for loging in for next times\n",
    "scopes = ['https://www.googleapis.com/auth/calendar.readonly']\n",
    "\n",
    "flow = InstalledAppFlow.from_client_secrets_file(\"client_secret.json\", scopes=scopes)\n",
    "credentials = flow.run_console()"
   ]
  },
  {
   "cell_type": "code",
   "execution_count": 2,
   "metadata": {},
   "outputs": [],
   "source": [
    "# Saving / loading credentials -> avoid loging in every time\n",
    "#pickle.dump(credentials, open(\"token.pkl\", \"wb\")) \n",
    "credentials = pickle.load(open(\"token.pkl\", \"rb\"))"
   ]
  },
  {
   "cell_type": "code",
   "execution_count": 3,
   "metadata": {},
   "outputs": [],
   "source": [
    "service = build(\"calendar\", \"v3\", credentials=credentials)"
   ]
  },
  {
   "cell_type": "code",
   "execution_count": 4,
   "metadata": {},
   "outputs": [],
   "source": [
    "result = service.calendarList().list().execute()"
   ]
  },
  {
   "cell_type": "code",
   "execution_count": 5,
   "metadata": {},
   "outputs": [],
   "source": [
    "calendar_id = result['items'][1]['id']"
   ]
  },
  {
   "cell_type": "code",
   "execution_count": 6,
   "metadata": {},
   "outputs": [],
   "source": [
    "events = service.events().list(calendarId=calendar_id).execute()"
   ]
  },
  {
   "cell_type": "code",
   "execution_count": 9,
   "metadata": {},
   "outputs": [],
   "source": [
    "def yourHoursPlease():\n",
    "    def strToDatetime(string):\n",
    "        # type of date-time stored in calendar: '2019-10-14T16:00:00+01:00'\n",
    "        try:\n",
    "            result = datetime.datetime.strptime(string, '%Y-%m-%dT%H:%M:%S+01:00')\n",
    "        except:\n",
    "            result = datetime.datetime.strptime(string, '%Y-%m-%dT%H:%M:%SZ')\n",
    "        return result\n",
    "    \n",
    "    nameOfWork = input('How do you call work events in your calendar? ')\n",
    "    \n",
    "    startMonth = input('Starting date\\'s month: ')\n",
    "    startDay = input('Startind date\\'s day: ')\n",
    "\n",
    "    endMonth = input('Ending date\\'s month: ')\n",
    "    endDay = input('Ending date\\'s day: ')\n",
    "\n",
    "    start = datetime.datetime(2019, int(startMonth), int(startDay),0,0,0).isoformat() + 'Z'\n",
    "    end = datetime.datetime(2019, int(endMonth), int(endDay) + 1, 2,59,59).isoformat() + 'Z' # last day's work can be ended on,\n",
    "                                                                   # following day in the morning (1-2 am time)\n",
    "        \n",
    "    # Getting all events from calendar in the above set time period\n",
    "    events_result = service.events().list(calendarId='primary', timeMin=start,\n",
    "                                            timeMax=end, singleEvents=True,\n",
    "                                            orderBy='startTime').execute()\n",
    "    \n",
    "    # Delete all redundant events:\n",
    "    events = events_result['items'] # list of the events\n",
    "    for event in events:\n",
    "        if event['summary'] != nameOfWork:\n",
    "            events.remove(event)\n",
    "    # --------------------------------------------\n",
    "    lastEventsWeek = 0\n",
    "    lastEventsDay = 0\n",
    "    total = datetime.timedelta(0) # total hours\n",
    "    \n",
    "    firstRow = True # avoid line break in the first row\n",
    "    \n",
    "    file = open('hours.txt', \"w\")\n",
    "    for event in events:\n",
    "        start = strToDatetime(event['start']['dateTime'])\n",
    "        end = strToDatetime(event['end']['dateTime'])\n",
    "        total = total + (end - start)\n",
    "        if start.weekday() < lastEventsWeek:\n",
    "            file.write('\\n--------------------')\n",
    "        \n",
    "        lastEventsWeek = start.weekday()\n",
    "\n",
    "        if strToDatetime(event['start']['dateTime']).day != lastEventsDay:\n",
    "            if firstRow:\n",
    "                firstRow = False\n",
    "            else:\n",
    "                file.write('\\n')\n",
    "            file.write(str(start.day) + '. ')\n",
    "            file.write(calendar.day_name[start.weekday()]+': ')\n",
    "        else:\n",
    "            file.write(' + ')\n",
    "        if start.minute == 0:\n",
    "            startMinute = '00'\n",
    "        else:\n",
    "            startMinute = str(start.minute)\n",
    "        if end.minute == 0:\n",
    "            endMinute = '00'\n",
    "        else:\n",
    "            endMinute = str(end.minute)\n",
    "\n",
    "        file.write(str(start.hour) + ':' + startMinute + '-')\n",
    "        file.write(str(end.hour) + ':' + endMinute)\n",
    "        lastEventsDay = start.day\n",
    "    \n",
    "    result = total.days * 24 + total.seconds / 3600\n",
    "    file.write(f'\\n________________________ {result} hours in total.')\n",
    "    print(f'{result} hours in total.')\n",
    "    file.close()\n",
    "    return result"
   ]
  },
  {
   "cell_type": "code",
   "execution_count": 10,
   "metadata": {},
   "outputs": [
    {
     "name": "stdout",
     "output_type": "stream",
     "text": [
      "How do you call work events in your calendar? Munka\n",
      "Starting date's month: 10\n",
      "Startind date's day: 14\n",
      "Ending date's month: 10\n",
      "Ending date's day: 27\n",
      "85.5 hours in total.\n"
     ]
    },
    {
     "data": {
      "text/plain": [
       "85.5"
      ]
     },
     "execution_count": 10,
     "metadata": {},
     "output_type": "execute_result"
    }
   ],
   "source": [
    "yourHoursPlease()"
   ]
  }
 ],
 "metadata": {
  "kernelspec": {
   "display_name": "Python 3",
   "language": "python",
   "name": "python3"
  },
  "language_info": {
   "codemirror_mode": {
    "name": "ipython",
    "version": 3
   },
   "file_extension": ".py",
   "mimetype": "text/x-python",
   "name": "python",
   "nbconvert_exporter": "python",
   "pygments_lexer": "ipython3",
   "version": "3.6.4"
  }
 },
 "nbformat": 4,
 "nbformat_minor": 2
}
